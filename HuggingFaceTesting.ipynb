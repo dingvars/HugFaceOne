{
 "cells": [
  {
   "cell_type": "markdown",
   "metadata": {},
   "source": [
    "# My first Hugging Face test"
   ]
  },
  {
   "cell_type": "markdown",
   "metadata": {},
   "source": [
    "## Installing transformers, tokenizers, datasets packages in main Python environment\n",
    "\n",
    "I used this page to get going with Hugging Face and transformers. \n",
    "\n",
    "https://www.freecodecamp.org/news/get-started-with-hugging-face/\n",
    "\n",
    "So on my main Python installation I ran:"
   ]
  },
  {
   "cell_type": "code",
   "execution_count": null,
   "metadata": {},
   "outputs": [],
   "source": [
    "#remember to use the main Python installation kernel at this point!\n",
    "%pip install transformers\n",
    "\n",
    "%pip install tokenizers, datasets"
   ]
  },
  {
   "cell_type": "markdown",
   "metadata": {},
   "source": [
    "I'm not sure if this is really necessary to do this on the main Python installation, since I'm later on is using a virtual environment where I installed Torch and I believe it automatically installed transformers and tokenizers in that virtual environment (see steps below).\n"
   ]
  },
  {
   "cell_type": "markdown",
   "metadata": {},
   "source": [
    "## Creating a virtual Python environment\n",
    "\n",
    "I created the virtual environment as described on this page:\n",
    "\n",
    "https://docs.python.org/3/library/venv.html\n",
    "\n",
    "In a cmd window I ran the below to create the virtual environment:"
   ]
  },
  {
   "cell_type": "code",
   "execution_count": null,
   "metadata": {
    "vscode": {
     "languageId": "bat"
    }
   },
   "outputs": [],
   "source": [
    "REM remeber to use the main Python installation at this point!\n",
    "python -m venv \"C:\\Temp\\PythonEnvironments\\HuggingFaceTest1\""
   ]
  },
  {
   "cell_type": "markdown",
   "metadata": {},
   "source": [
    "Then I ran the below in the same cmd window to activate the virtual environment:"
   ]
  },
  {
   "cell_type": "code",
   "execution_count": null,
   "metadata": {
    "vscode": {
     "languageId": "bat"
    }
   },
   "outputs": [],
   "source": [
    "C:\\Temp\\PythonEnvironments\\HuggingFaceTest1\\Scripts\\activate"
   ]
  },
  {
   "cell_type": "markdown",
   "metadata": {},
   "source": [
    "Then I ran the below in the same cmd window to install IPython Kernel:"
   ]
  },
  {
   "cell_type": "code",
   "execution_count": null,
   "metadata": {
    "vscode": {
     "languageId": "bat"
    }
   },
   "outputs": [],
   "source": [
    "pip install ipykernel"
   ]
  },
  {
   "cell_type": "markdown",
   "metadata": {},
   "source": [
    "Then I ran the below in the same cmd window to add the virtual environment as a kernel in Jupyter:"
   ]
  },
  {
   "cell_type": "code",
   "execution_count": null,
   "metadata": {
    "vscode": {
     "languageId": "bat"
    }
   },
   "outputs": [],
   "source": [
    "python -m ipykernel install --user --name=HuggingFaceTest1 --display-name=\"Python (HuggingFaceTest1)\""
   ]
  },
  {
   "cell_type": "markdown",
   "metadata": {},
   "source": [
    "Now, from this Jupyter notebook, you can switch the kernel by clicking on the kernel name (usually displayed at the top right of the notebook interface).  \n",
    "You should see the new kernel in the list of available kernels.\n",
    "\n",
    "**Note that a restart of the Jupyter notebook (or Visual Code) might be necessary to see the new kernel in the list of available kernels.** "
   ]
  },
  {
   "cell_type": "markdown",
   "metadata": {},
   "source": [
    "To make sure we are using our new virtual environment we can run the below to see where pip is installed.  \n",
    "In my case I saw two entries for pip, one in the virtual environment and one in the main Python installation:  \n",
    "```console\n",
    "c:\\Temp\\PythonEnvironments\\HuggingFaceTest1\\Scripts\\pip.exe  \n",
    "C:\\Users\\dingvars\\AppData\\Local\\Programs\\Python\\Python312\\Scripts\\pip.exe\n",
    "```"
   ]
  },
  {
   "cell_type": "code",
   "execution_count": null,
   "metadata": {},
   "outputs": [],
   "source": [
    "#here we should switch to the new virtual Python environment kernel\n",
    "!where pip"
   ]
  },
  {
   "cell_type": "markdown",
   "metadata": {},
   "source": [
    "We can also run the below to see which pip is being used.  \n",
    "It should be the one in the virtual environment."
   ]
  },
  {
   "cell_type": "code",
   "execution_count": null,
   "metadata": {},
   "outputs": [],
   "source": [
    "!pip -V "
   ]
  },
  {
   "cell_type": "markdown",
   "metadata": {},
   "source": [
    "\n",
    "We can the use the below to see which packages are installed in the virtual environment.  \n",
    "I did not see transformers or tokenizers packages installed in the virtual environment at this point. "
   ]
  },
  {
   "cell_type": "code",
   "execution_count": null,
   "metadata": {},
   "outputs": [],
   "source": [
    "!pip list"
   ]
  },
  {
   "cell_type": "markdown",
   "metadata": {},
   "source": [
    "## Installing transformers package in the virtual environment\n",
    "\n",
    "Then I installed Hugging Face Transformers in the virtual environment with the below command.\n"
   ]
  },
  {
   "cell_type": "code",
   "execution_count": null,
   "metadata": {},
   "outputs": [],
   "source": [
    "%pip install transformers"
   ]
  },
  {
   "cell_type": "markdown",
   "metadata": {},
   "source": [
    "Using the below command I could see that transformers (and tokenizers) were now installed in the virtual environment."
   ]
  },
  {
   "cell_type": "code",
   "execution_count": null,
   "metadata": {},
   "outputs": [],
   "source": [
    "!pip list"
   ]
  },
  {
   "cell_type": "markdown",
   "metadata": {},
   "source": [
    "## Installing misc packages in the virtual environment\n",
    "\n",
    "At this point I tried to run the test code below but received a number of error messages.  \n",
    "In the end I needed to run the below pip install commands to install misc packages to get the code to execute without errors.\n",
    "\n",
    "**After these packages are installed you must restart the virtual environment kernel to use updated packages.**"
   ]
  },
  {
   "cell_type": "code",
   "execution_count": null,
   "metadata": {},
   "outputs": [],
   "source": [
    "%pip install torch\n",
    "\n",
    "%pip install tensorflow\n",
    "\n",
    "%pip install ipywidgets\n",
    "\n",
    "%pip install tf-keras"
   ]
  },
  {
   "cell_type": "markdown",
   "metadata": {},
   "source": [
    "# Running a model from Hugging Face"
   ]
  },
  {
   "cell_type": "markdown",
   "metadata": {},
   "source": [
    "At this point we are ready for our first test of the huggingface transformers library."
   ]
  },
  {
   "cell_type": "code",
   "execution_count": null,
   "metadata": {},
   "outputs": [],
   "source": [
    "from transformers import pipeline\n",
    "\n",
    "# Load a pre-trained pipeline for sentiment analysis\n",
    "sentiment_analysis = pipeline(\"sentiment-analysis\")\n",
    "\n",
    "# Use the pipeline\n",
    "result = sentiment_analysis(\"I love using Hugging Face Transformers!\")\n",
    "print(result)"
   ]
  },
  {
   "cell_type": "markdown",
   "metadata": {},
   "source": [
    "## Running the models on the GPU\n",
    "\n",
    "I wanted to use the Nvidia RTX A2000 GPU that I have in my computer to run the models.\n",
    "\n",
    "To achive that I had to (re)install the Torch package with CUDA support.  \n",
    "https://en.wikipedia.org/wiki/CUDA  \n",
    "\n",
    "First I uninstalled the existing Torch package:"
   ]
  },
  {
   "cell_type": "code",
   "execution_count": null,
   "metadata": {},
   "outputs": [],
   "source": [
    "%pip uninstall -y torch torchvision torchaudio"
   ]
  },
  {
   "cell_type": "markdown",
   "metadata": {},
   "source": [
    "\n",
    "Then I (re)installed the Torch package with CUDA support.  \n",
    "I used this page to find the correct command:  \n",
    "https://pytorch.org/get-started/locally/\n",
    "\n",
    "**After these packages are installed you must restart the virtual environment kernel to use updated packages.**"
   ]
  },
  {
   "cell_type": "code",
   "execution_count": null,
   "metadata": {},
   "outputs": [],
   "source": [
    "%pip install torch torchvision torchaudio --index-url https://download.pytorch.org/whl/cu118\n",
    "#the cu118 part defines CUDA 11.8"
   ]
  },
  {
   "cell_type": "markdown",
   "metadata": {},
   "source": [
    "At this point I received errors when trying to execute the code below to verify the Torch installation.  \n",
    "To solve the issue I had to manually download and put the libomp140.x86_64.dll in the  \n",
    "C:\\Temp\\PythonEnvironments\\HuggingFaceTest1\\Lib\\site-packages\\torch\\lib folder.\n",
    "  \n",
    "I downloaded the dll from:  \n",
    "https://www.dllme.com/dll/files/libomp140_x86_64/00637fe34a6043031c9ae4c6cf0a891d/download\n",
    "\n",
    "**After doing this I had to restart the kernel for the code below to work.**\n",
    "\n",
    "The error message I received did not directly mention the libomp140.x86_64.dll file.  \n",
    "It looked something like:  \n",
    "\"*WinError 126, error loading fbgemm.dll or dependencies*\".  \n",
    "I used the Dependency tool to find out that it was actually the libomp140.x86_64.dll file that was missing.  \n",
    "https://github.com/lucasg/Dependencies\n",
    "\n",
    "After this I could run the code below to verify that Torch was installed correctly and that the GPU was available."
   ]
  },
  {
   "cell_type": "code",
   "execution_count": 1,
   "metadata": {},
   "outputs": [
    {
     "name": "stdout",
     "output_type": "stream",
     "text": [
      "2.4.0+cu118\n",
      "True\n",
      "0\n",
      "NVIDIA RTX A2000 Laptop GPU\n"
     ]
    }
   ],
   "source": [
    "import torch\n",
    "\n",
    "print(torch.__version__) # Should print the version of PyTorch you have installed\n",
    "print(torch.cuda.is_available())  # Should return True if CUDA is available and correctly set up\n",
    "print(torch.cuda.current_device())  # Should return 0 for the first GPU device\n",
    "print(torch.cuda.get_device_name(0))  # Should print the name of your GPU"
   ]
  },
  {
   "cell_type": "markdown",
   "metadata": {},
   "source": [
    "The below code should now work OK, but in the output you should see that the GPU is not being used.  \n",
    "The message should be something like:  \n",
    "*\"Hardware accelerator e.g. GPU is available in the environment, but no `device` argument is passed to the `Pipeline` object. Model will be on CPU.\"*"
   ]
  },
  {
   "cell_type": "code",
   "execution_count": null,
   "metadata": {},
   "outputs": [],
   "source": [
    "from transformers import pipeline\n",
    "\n",
    "generator = pipeline('text-generation', model='gpt2')\n",
    "\n",
    "generator(\"In this course, we will teach you how to\", \n",
    "                   max_length=30, \n",
    "                   num_return_sequences=100, \n",
    "                   truncation=True)"
   ]
  },
  {
   "cell_type": "markdown",
   "metadata": {},
   "source": [
    "The below code does the same thing as the code above but here we specify that the first GPU device should be used for the model.  \n",
    "In my case this is my Nvidia RTX A2000 GPU.  \n",
    "This code also runs considerably faster than the code above since it uses the GPU for parallel processing.  \n",
    "The gain is larger the more sequences we process."
   ]
  },
  {
   "cell_type": "code",
   "execution_count": 3,
   "metadata": {},
   "outputs": [
    {
     "name": "stderr",
     "output_type": "stream",
     "text": [
      "Setting `pad_token_id` to `eos_token_id`:50256 for open-end generation.\n"
     ]
    },
    {
     "data": {
      "text/plain": [
       "[{'generated_text': 'In this course, we will teach you how to create a powerful web library. You will then move on to the next subject.\\n\\nOur goal'},\n",
       " {'generated_text': 'In this course, we will teach you how to create reusable content, how to share it, and how to create scalable web applications.'},\n",
       " {'generated_text': 'In this course, we will teach you how to build a custom dashboard for React.js and a web app.\\n\\nYou will also learn a'},\n",
       " {'generated_text': 'In this course, we will teach you how to use the built-in C++11 template functions.\\n\\nFor the C++11 template classes'},\n",
       " {'generated_text': 'In this course, we will teach you how to build your first project on the ground. Here you will be able to view some of the basics of'},\n",
       " {'generated_text': \"In this course, we will teach you how to develop the confidence level of your skills, the mindset of your partner's thinking and the overall decision making\"},\n",
       " {'generated_text': 'In this course, we will teach you how to use different types of encryption to create safe-cyber security documents. The format for the presentation is'},\n",
       " {'generated_text': 'In this course, we will teach you how to build a small Linux distribution from scratch, including a full-featured installer for Debian based boxes that'},\n",
       " {'generated_text': 'In this course, we will teach you how to use the basic concept of relational databases in relational database design using relational database, providing examples and code examples'},\n",
       " {'generated_text': 'In this course, we will teach you how to create, design, and manage an app that runs as it should for a business, and is scalable'},\n",
       " {'generated_text': 'In this course, we will teach you how to apply the basic principles of your design to your problem solving problem.\\n\\nHow Do You Design Your'},\n",
       " {'generated_text': 'In this course, we will teach you how to develop and configure a Python interactive tool for building interactive Python projects. Although not required as a prerequisite in'},\n",
       " {'generated_text': 'In this course, we will teach you how to implement the Euler-Calletti theorem. This step will include a reference for the model that'},\n",
       " {'generated_text': 'In this course, we will teach you how to use the \"cognitive-behavioral\" term \"learning.\" There are many ways for people to'},\n",
       " {'generated_text': \"In this course, we will teach you how to solve problems through practice. You'll then learn to learn about social network based tools and how to solve\"},\n",
       " {'generated_text': 'In this course, we will teach you how to install a security update to provide you with the greatest security experience on your Ubuntu System.\\n\\nYou'},\n",
       " {'generated_text': 'In this course, we will teach you how to use the built-in CSS Editor to get your CSS and CSS-to-JavaScript links to'},\n",
       " {'generated_text': 'In this course, we will teach you how to create applications that integrate together, and then focus on common areas of development rather than going through a single'},\n",
       " {'generated_text': 'In this course, we will teach you how to manipulate and manipulate an object, manipulate a pointer, set and set parameters, and manipulate the environment in'},\n",
       " {'generated_text': 'In this course, we will teach you how to perform real world work and help you apply your skills to your role in developing and operating a database,'},\n",
       " {'generated_text': 'In this course, we will teach you how to use the Windows Store for building Windows games in general and tools for Windows Store developers to integrate Windows Store'},\n",
       " {'generated_text': 'In this course, we will teach you how to create a custom application on macOS by writing a custom file for it. We will see you how to'},\n",
       " {'generated_text': 'In this course, we will teach you how to make the right decision with the right tools and techniques as well as demonstrate how you will apply them successfully'},\n",
       " {'generated_text': 'In this course, we will teach you how to write beautiful, well-crafted essays, get people to talk to you, and learn how to tell'},\n",
       " {'generated_text': 'In this course, we will teach you how to use data structures from Google Analytics for the same purpose as you currently use them for creating a web page'},\n",
       " {'generated_text': 'In this course, we will teach you how to make yourself comfortable and easy to understand how to build a strong and effective lifestyle. For more information please'},\n",
       " {'generated_text': 'In this course, we will teach you how to do a full application. This is our first video, and we hope you will not miss getting your'},\n",
       " {'generated_text': \"In this course, we will teach you how to use CSS properties, but before you do any of that for the rest of this tutorial, you'll\"},\n",
       " {'generated_text': 'In this course, we will teach you how to create a real-world action application where customers and users can have real relationships and how to interact with'},\n",
       " {'generated_text': 'In this course, we will teach you how to create web apps and share them with friends, employers, colleagues, and other professionals. We will also'},\n",
       " {'generated_text': 'In this course, we will teach you how to create a custom plugin to add widgets to your webpage.\\n\\nWe will show you how to create'},\n",
       " {'generated_text': 'In this course, we will teach you how to create and configure a network in an in-memory object. The configuration is then used to configure the'},\n",
       " {'generated_text': 'In this course, we will teach you how to define a key and property for a non-local object.\\n\\nThe key and property object names'},\n",
       " {'generated_text': 'In this course, we will teach you how to use the C# template syntax to create a function that wraps a method that returns a virtual object.'},\n",
       " {'generated_text': 'In this course, we will teach you how to create a fully functional and easy-to-use tool that keeps tabs on your calendar, track your'},\n",
       " {'generated_text': 'In this course, we will teach you how to make a custom custom game from scratch using Go. With Go, you can create your own custom custom'},\n",
       " {'generated_text': 'In this course, we will teach you how to use SQL Server as a system administrator for your business. In this course students will learn how to use'},\n",
       " {'generated_text': 'In this course, we will teach you how to build your own microcontroller. This course covers almost everything in the fundamentals of microcontroller development, as'},\n",
       " {'generated_text': 'In this course, we will teach you how to become a successful actor and how to make sure your acting talents are in order.\\n\\n* Students'},\n",
       " {'generated_text': 'In this course, we will teach you how to code and develop your own applications in Python.\\n\\nPython 3.x - The Most Valuable'},\n",
       " {'generated_text': 'In this course, we will teach you how to use CSS to create a powerful theme with minimal and secure styling. CSS is the foundation on which building'},\n",
       " {'generated_text': 'In this course, we will teach you how to make a high-speed web browser program in Visual Studio 2019.\\n\\nThis course will show you'},\n",
       " {'generated_text': 'In this course, we will teach you how to recognize objects.\\n\\nAwareness of Objects\\n\\nEvery time you notice a certain object,'},\n",
       " {'generated_text': 'In this course, we will teach you how to create and run projects, and how to use a wide variety of different tools to achieve these goals.'},\n",
       " {'generated_text': 'In this course, we will teach you how to create an asynchronous data flow that works in your application. We will create an asynchronous database which uses a'},\n",
       " {'generated_text': 'In this course, we will teach you how to program with the new BDD framework, from the ground up.\\n\\nThe first step will be'},\n",
       " {'generated_text': 'In this course, we will teach you how to use a real world website to create a real-text web site. The book will provide information on'},\n",
       " {'generated_text': 'In this course, we will teach you how to design and build your own custom microcontroller to program your next batch of software\\n\\nThis course is'},\n",
       " {'generated_text': 'In this course, we will teach you how to achieve the fastest speeds and the most reliable power out of each of the 4 components, from the battery'},\n",
       " {'generated_text': 'In this course, we will teach you how to use multiple channels for different users. But first, we will learn how to use channel types to create'},\n",
       " {'generated_text': 'In this course, we will teach you how to learn your own language and how to learn other languages. This course is based on the Korean Fluency'},\n",
       " {'generated_text': 'In this course, we will teach you how to create an account on Microsoft Edge using the PowerShell cmdlet.\\n\\n1. In PowerShell, right'},\n",
       " {'generated_text': 'In this course, we will teach you how to add, add, multiply, divide, compare, multiply, even. We will be applying the rules'},\n",
       " {'generated_text': 'In this course, we will teach you how to write a beautiful simple but powerful system that makes life easier. We will also explain how to build the'},\n",
       " {'generated_text': 'In this course, we will teach you how to develop and play your own unique strategy to win. Our objective is to teach you how to quickly learn'},\n",
       " {'generated_text': 'In this course, we will teach you how to work with the C++16 functions:\\n\\nYou can find the most recent version of the C'},\n",
       " {'generated_text': 'In this course, we will teach you how to design your own apps, and how to create or modify them. Our goal is to educate in about'},\n",
       " {'generated_text': 'In this course, we will teach you how to create dynamic interfaces for use by developers and designers, such as: XML, Java XML, and HTML'},\n",
       " {'generated_text': 'In this course, we will teach you how to use the new Kabbalah to apply the Torah to practice Torah, to practice religious knowledge,'},\n",
       " {'generated_text': 'In this course, we will teach you how to use a variety of Windows applications to implement and deploy content, as well as how to set up and'},\n",
       " {'generated_text': 'In this course, we will teach you how to make the best use of your strengths in different areas of your business, learn how to use the latest'},\n",
       " {'generated_text': 'In this course, we will teach you how to use Python\\'s \"learn\" concept to build new things.\\n\\nBy building an object by its'},\n",
       " {'generated_text': 'In this course, we will teach you how to program a basic web-related task program.\\n\\nThe most important lessons will be learned from a'},\n",
       " {'generated_text': 'In this course, we will teach you how to create a project on your WordPress website with the help of the Open Source, Dependency Injection,'},\n",
       " {'generated_text': 'In this course, we will teach you how to make money by making your life better than what you would like it to be, but keep in mind'},\n",
       " {'generated_text': \"In this course, we will teach you how to build your code by using JQuery. And then, use the jQuery framework's built-in functions\"},\n",
       " {'generated_text': 'In this course, we will teach you how to write in Javascript.\\n\\nOur example will take you to a few steps you can take to help'},\n",
       " {'generated_text': 'In this course, we will teach you how to take a simple program, like the one you create in the examples directory.\\n\\nWe will use'},\n",
       " {'generated_text': 'In this course, we will teach you how to use the Numeric key to locate the string you typed when writing an address. These are also the'},\n",
       " {'generated_text': 'In this course, we will teach you how to create a simple project that will help you create a web application that can communicate with a local database where'},\n",
       " {'generated_text': 'In this course, we will teach you how to create your own and create reusable prototypes on Github. All you need is a few simple tools to create'},\n",
       " {'generated_text': 'In this course, we will teach you how to take your first step in a modern industry, using an understanding of the world and how to connect with'},\n",
       " {'generated_text': 'In this course, we will teach you how to manipulate the value you create in front of your users through a web application. Our web application can be'},\n",
       " {'generated_text': 'In this course, we will teach you how to use the MVC-based MVC framework to create a data model of data flow.\\n\\n'},\n",
       " {'generated_text': 'In this course, we will teach you how to use CSS and JavaScript in your projects and then explore the basic concepts of React.js. Please feel'},\n",
       " {'generated_text': 'In this course, we will teach you how to create a simple, secure, and scalable mobile application.\\n\\nLearn about Web App Development Using Google'},\n",
       " {'generated_text': 'In this course, we will teach you how to use data to create your personal data accounts.'},\n",
       " {'generated_text': 'In this course, we will teach you how to work with SQL servers using the MySQL query module. You will learn to build and run the databases on'},\n",
       " {'generated_text': 'In this course, we will teach you how to install Windows Live Gold on Microsoft Windows 10.1 and Windows Phone 8, and the ability to manage'},\n",
       " {'generated_text': 'In this course, we will teach you how to: - learn to read and write to new people - learn to read, write and write on an'},\n",
       " {'generated_text': 'In this course, we will teach you how to build a custom app that creates unique, compelling, immersive stories in a variety of genres, from fantasy'},\n",
       " {'generated_text': 'In this course, we will teach you how to solve many problems:\\n\\nHow to solve a problem\\n\\nHow to solve an obstacle\\n\\n'},\n",
       " {'generated_text': 'In this course, we will teach you how to build an email client with Django for Django2 which is a free open source Django development framework for Django'},\n",
       " {'generated_text': 'In this course, we will teach you how to successfully build your application as a user. We will show you how to set up and run your application'},\n",
       " {'generated_text': 'In this course, we will teach you how to develop your vocabulary using two types (Latin and Greek) of verbs, the Latin verbs, and the'},\n",
       " {'generated_text': 'In this course, we will teach you how to use Java as a programming language to control an Android system.\\n\\nTo learn about the use of'},\n",
       " {'generated_text': 'In this course, we will teach you how to read, write and think, how to change your life. For example, we will see how to'},\n",
       " {'generated_text': 'In this course, we will teach you how to install your own Java EE Bootcamp with a simple application, using Java EE SDK 8. For a'},\n",
       " {'generated_text': 'In this course, we will teach you how to create and use an online marketplace to generate payment options. Also, it will focus on how to create'},\n",
       " {'generated_text': 'In this course, we will teach you how to implement this into the UI of the application.\\n\\nWe will also show you how to implement this'},\n",
       " {'generated_text': 'In this course, we will teach you how to use PHP for debugging. Also, you will learn about the best webhooks, how to set'},\n",
       " {'generated_text': 'In this course, we will teach you how to create the most effective tools to get the job done efficiently in your project.\\n\\nAs we learn'},\n",
       " {'generated_text': 'In this course, we will teach you how to code:\\n\\nCode in Java and Python.\\n\\nDesign your own web applications.\\n\\n'},\n",
       " {'generated_text': 'In this course, we will teach you how to easily apply the Python core programming language to data sets. A lot of data sets are designed around sets'},\n",
       " {'generated_text': 'In this course, we will teach you how to create a Web server application without using your own client. There will be many resources in this course that'},\n",
       " {'generated_text': 'In this course, we will teach you how to create, store, and customize the following data you can use to customize data-sets.\\n\\n'},\n",
       " {'generated_text': 'In this course, we will teach you how to build a scalable mobile app that combines real user experience with real data and makes it easy to scale apps'},\n",
       " {'generated_text': 'In this course, we will teach you how to build and manage your favorite applications for the iOS market.\\n\\nWhy Should I Help You\\n\\n'},\n",
       " {'generated_text': 'In this course, we will teach you how to write in PHP what it is like to use PHP as a web server in a web application. We'},\n",
       " {'generated_text': 'In this course, we will teach you how to create a program to save some video footage in real-time. We will talk about how to create'}]"
      ]
     },
     "execution_count": 3,
     "metadata": {},
     "output_type": "execute_result"
    }
   ],
   "source": [
    "from transformers import pipeline\n",
    "\n",
    "# Check if GPU is available and set the device accordingly\n",
    "device = 0 if torch.cuda.is_available() else -1  # 0 for GPU, -1 for CPU\n",
    "\n",
    "# Initialize the pipeline with the device argument\n",
    "generator = pipeline('text-generation', model='gpt2', device=device)\n",
    "\n",
    "# Call the generator with truncation=True\n",
    "generator(\"In this course, we will teach you how to\", \n",
    "                   max_length=30, \n",
    "                   num_return_sequences=100, \n",
    "                   truncation=True)"
   ]
  },
  {
   "cell_type": "markdown",
   "metadata": {},
   "source": [
    "## Finding other models to play around with\n",
    "\n",
    "https://huggingface.co/models"
   ]
  }
 ],
 "metadata": {
  "kernelspec": {
   "display_name": "Python 3",
   "language": "python",
   "name": "python3"
  },
  "language_info": {
   "codemirror_mode": {
    "name": "ipython",
    "version": 3
   },
   "file_extension": ".py",
   "mimetype": "text/x-python",
   "name": "python",
   "nbconvert_exporter": "python",
   "pygments_lexer": "ipython3",
   "version": "3.12.4"
  }
 },
 "nbformat": 4,
 "nbformat_minor": 2
}
